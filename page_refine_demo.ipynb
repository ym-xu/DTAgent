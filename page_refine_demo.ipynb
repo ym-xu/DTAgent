{
 "cells": [
  {
   "cell_type": "markdown",
   "metadata": {},
   "source": [
    "# Page Refinement Demo (Plan / Jsonlist)\n",
    "This notebook lets you pick a doctree file and a page index, then run a small end-to-end test of page-level refinement using the new function APIs.\n",
    "\n",
    "- Plan path: Model returns a plan `{page_idx, items, merges?, virtual_titles?}`.\n",
    "- Jsonlist path: Model returns an array `[{node_id, level}]` for reorder+relevel only.\n",
    "\n",
    "No network calls are included here; you can paste a model response into a variable to simulate the flow."
   ]
  },
  {
   "cell_type": "code",
   "execution_count": 1,
   "id": "9cecaebd",
   "metadata": {},
   "outputs": [],
   "source": [
    "import json, os, glob\n",
    "from pprint import pprint\n",
    "\n",
    "from tree import (\n",
    "    build_page_payload,\n",
    "    render_plan_prompt, render_jsonlist_prompt,\n",
    "    validate_and_normalize_plan, validate_and_normalize_jsonlist,\n",
    "    apply_plan_to_document, apply_nodes_to_document,\n",
    ")\n",
    "\n",
    "def load_doctree(path):\n",
    "    with open(path, 'r', encoding='utf-8') as f:\n",
    "        return json.load(f)\n",
    "\n",
    "def save_doctree(obj, path):\n",
    "    with open(path, 'w', encoding='utf-8') as f:\n",
    "        json.dump(obj, f, ensure_ascii=False, indent=2)\n",
    "\n",
    "def page_ids(elements):\n",
    "    return [e['node_id'] for e in elements]\n",
    "\n",
    "def types_by_id(elements):\n",
    "    return {e['node_id']: e['type'] for e in elements}\n"
   ]
  },
  {
   "cell_type": "markdown",
   "metadata": {},
   "source": [
    "## 1) Choose doctree file and page index"
   ]
  },
  {
   "cell_type": "code",
   "execution_count": 2,
   "metadata": {},
   "outputs": [
    {
     "name": "stdout",
     "output_type": "stream",
     "text": [
      "Found doctree files: 0\n",
      "Using doctree:  page: 0\n"
     ]
    }
   ],
   "source": [
    "# Adjust this glob to your dataset root if needed\n",
    "candidates = glob.glob('**/doctree.json', recursive=True)\n",
    "print('Found doctree files:', len(candidates))\n",
    "for i, p in enumerate(candidates[:10]):\n",
    "    print(i, p)\n",
    "\n",
    "# Select one file and a page index here\n",
    "DOCTREE_PATH = candidates[0] if candidates else ''\n",
    "PAGE_IDX = 0\n",
    "print('Using doctree:', DOCTREE_PATH, 'page:', PAGE_IDX)\n"
   ]
  },
  {
   "cell_type": "markdown",
   "metadata": {},
   "source": [
    "## 2) Build payload and inspect elements"
   ]
  },
  {
   "cell_type": "code",
   "execution_count": null,
   "metadata": {},
   "outputs": [],
   "source": [
    "root = load_doctree(DOCTREE_PATH)\n",
    "payload = build_page_payload(root, PAGE_IDX, page_image_ref=None)\n",
    "print('Elements on page:', len(payload['elements']))\n",
    "for e in payload['elements'][:8]:\n",
    "    print(e['node_id'], e['type'], '|', e.get('snippet','')[:60])\n",
    "\n",
    "# Render prompts (you will pass these to your LLM)\n",
    "plan_prompt = render_plan_prompt(payload, level_max=4)\n",
    "jsonlist_prompt = render_jsonlist_prompt(payload, level_max=4)\n",
    "print('Plan prompt preview:\n",
    "', plan_prompt.splitlines()[0])\n",
    "print('Jsonlist prompt preview:\n",
    "', jsonlist_prompt.splitlines()[0])\n"
   ]
  },
  {
   "cell_type": "markdown",
   "metadata": {},
   "source": [
    "## 3) Paste your model output and apply\n",
    "- Paste the LLM output string into `RAW` below.\n",
    "- If it's a plan object, set `IS_PLAN = True`; if it's a jsonlist array, set `IS_PLAN = False`."
   ]
  },
  {
   "cell_type": "code",
   "execution_count": null,
   "metadata": {},
   "outputs": [],
   "source": [
    "IS_PLAN = True  # set to False if you pasted a jsonlist\n",
    "RAW = '{\n",
    "  \"page_idx\": %d,\n",
    "  \"items\": [],\n",
    "  \"merges\": [],\n",
    "  \"virtual_titles\": []\n",
    "}' % PAGE_IDX\n",
    "\n",
    "elems = payload['elements']\n",
    "ids = page_ids(elems)\n",
    "types = types_by_id(elems)\n",
    "\n",
    "if IS_PLAN:\n",
    "    ok, norm, errs = validate_and_normalize_plan(json.loads(RAW),\n",
    "                                                allowed_ids=ids,\n",
    "                                                types_by_id=types,\n",
    "                                                page_idx=PAGE_IDX,\n",
    "                                                level_max=4)\n",
    "    print('Plan ok:', ok)\n",
    "    if not ok:\n",
    "        pprint(errs)\n",
    "    else:\n",
    "        new_root = apply_plan_to_document(root, PAGE_IDX, norm)\n",
    "else:\n",
    "    ok, items, errs = validate_and_normalize_jsonlist(json.loads(RAW), allowed_ids=ids, level_max=4)\n",
    "    print('Jsonlist ok:', ok)\n",
    "    if not ok:\n",
    "        pprint(errs)\n",
    "    else:\n",
    "        # Here you can transform items into full nodes or let your model return nodes directly\n",
    "        # For demo purpose, we will not apply jsonlist directly.\n",
    "        pass\n"
   ]
  },
  {
   "cell_type": "markdown",
   "metadata": {},
   "source": [
    "## 4) Inspect changes (if applied)"
   ]
  },
  {
   "cell_type": "code",
   "execution_count": null,
   "metadata": {},
   "outputs": [],
   "source": [
    "def page_slice(doc):\n",
    "    return [ch for ch in doc.get('children', []) if ch.get('page_idx') == PAGE_IDX]\n",
    "\n",
    "old_page = page_slice(root)\n",
    "print('Old page nodes:', len(old_page))\n",
    "for ch in old_page[:6]:\n",
    "    print(ch.get('type'), ch.get('node_level'), '|', (ch.get('text') or ch.get('table_text') or '')[:60])\n",
    "\n",
    "try:\n",
    "    _ = new_root\n",
    "    new_page = page_slice(new_root)\n",
    "    print('\n",
    "New page nodes:', len(new_page))\n",
    "    for ch in new_page[:6]:\n",
    "        print(ch.get('type'), ch.get('node_level'), '|', (ch.get('text') or ch.get('table_text') or '')[:60])\n",
    "except NameError:\n",
    "    print('No new_root available; apply a valid plan first.')\n"
   ]
  }
 ],
 "metadata": {
  "kernelspec": {
   "display_name": "dtagent",
   "language": "python",
   "name": "python3"
  },
  "language_info": {
   "codemirror_mode": {
    "name": "ipython",
    "version": 3
   },
   "file_extension": ".py",
   "mimetype": "text/x-python",
   "name": "python",
   "nbconvert_exporter": "python",
   "pygments_lexer": "ipython3",
   "version": "3.12.11"
  }
 },
 "nbformat": 4,
 "nbformat_minor": 5
}
