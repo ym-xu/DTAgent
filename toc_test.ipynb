{
 "cells": [
  {
   "cell_type": "markdown",
   "metadata": {},
   "source": [
    "# TOC Detection & Parsing (LLM-only)\n",
    "This notebook tests Table of Contents (TOC) detection and parsing using only LLM outputs.\n",
    "- Input must be a flat doctree (builder output). If you pass a content_list (list), it will be wrapped into a flat object temporarily.\n",
    "- Detection: calls LLM per page to decide is_toc.\n",
    "- Parsing: calls LLM once with all detected TOC pages to produce a headings tree."
   ]
  },
  {
   "cell_type": "code",
   "execution_count": 1,
   "metadata": {},
   "outputs": [],
   "source": [
    "import os, json\n",
    "from tree import (\n",
    "  build_flat_doctree,\n",
    "  build_toc_page_payload, render_toc_detect_prompt, find_toc_pages, build_toc_tree_with_llm\n",
    ")\n",
    "from tree import gpt_llm_call, qwen_llm_call\n",
    "\n",
    "def load_flat(path):\n",
    "    with open(path, 'r', encoding='utf-8') as f:\n",
    "        obj = json.load(f)\n",
    "    if isinstance(obj, list):\n",
    "        src = os.path.dirname(path)\n",
    "        doc_id = os.path.basename(src) or 'document'\n",
    "        return build_flat_doctree(obj, source_dir=src, doc_id=doc_id, include_indices=True)\n",
    "    return obj\n"
   ]
  },
  {
   "cell_type": "markdown",
   "metadata": {},
   "source": [
    "## 1) Select doctree and provider"
   ]
  },
  {
   "cell_type": "code",
   "execution_count": 2,
   "metadata": {},
   "outputs": [
    {
     "name": "stdout",
     "output_type": "stream",
     "text": [
      "doc_id: Macbook_air | children: 471\n"
     ]
    }
   ],
   "source": [
    "DOCTREE_PATH = './../../../data/users/yiming/dtagent/MinerU_MMLB/Macbook_air/doctree.json'  # TODO: change to your file\n",
    "PROVIDER = 'gpt'  # 'gpt' | 'qwen'\n",
    "flat = load_flat(DOCTREE_PATH)\n",
    "print('doc_id:', flat.get('doc_id'), '| children:', len(flat.get('children', [])))\n",
    "\n",
    "def llm_call(messages, images=None):\n",
    "    if PROVIDER == 'qwen':\n",
    "        return qwen_llm_call(messages, images, model='qwen-vl-max', json_mode=True)\n",
    "    else:\n",
    "        return gpt_llm_call(messages, images, model='gpt-4o', json_mode=True)\n"
   ]
  },
  {
   "cell_type": "markdown",
   "metadata": {},
   "source": [
    "## 2) Single-page detection preview (LLM-only)"
   ]
  },
  {
   "cell_type": "code",
   "execution_count": 3,
   "metadata": {},
   "outputs": [
    {
     "name": "stdout",
     "output_type": "stream",
     "text": [
      "lines on page 0 : 1\n",
      "- Congratulations, you and your MacBook Air were made for each other.\n",
      "RAW: {\"is_toc\":false,\"confidence\":0.8}\n",
      "is_toc: False conf: 0.8\n"
     ]
    }
   ],
   "source": [
    "from tree import render_toc_detect_prompt\n",
    "PAGE = 0  # set to a likely TOC page\n",
    "payload = build_toc_page_payload(flat, PAGE)\n",
    "print('lines on page', PAGE, ':', len(payload['lines']))\n",
    "for ln in payload['lines'][:8]:\n",
    "    print('-', (ln.get('text') or '')[:100])\n",
    "\n",
    "messages = [\n",
    "  {'role':'system','content':'You only output JSON.'},\n",
    "  {'role':'user','content': render_toc_detect_prompt(payload)},\n",
    "]\n",
    "raw = llm_call(messages, images=None)\n",
    "print('RAW:', raw[:300])\n",
    "obj = json.loads(raw)\n",
    "print('is_toc:', obj.get('is_toc'), 'conf:', obj.get('confidence'))\n"
   ]
  },
  {
   "cell_type": "markdown",
   "metadata": {},
   "source": [
    "## 3) Batch detection (find_toc_pages)"
   ]
  },
  {
   "cell_type": "code",
   "execution_count": 4,
   "metadata": {},
   "outputs": [
    {
     "name": "stdout",
     "output_type": "stream",
     "text": [
      "Detected TOC pages: [4, 5]\n"
     ]
    }
   ],
   "source": [
    "toc_pages = find_toc_pages(flat, llm_call, start_page=0, max_scan_pages=50)\n",
    "print('Detected TOC pages:', toc_pages)\n"
   ]
  },
  {
   "cell_type": "markdown",
   "metadata": {},
   "source": [
    "## 4) Parse headings tree from detected TOC pages"
   ]
  },
  {
   "cell_type": "code",
   "execution_count": 5,
   "metadata": {},
   "outputs": [
    {
     "name": "stdout",
     "output_type": "stream",
     "text": [
      "pages: [4, 5]\n",
      "headings: 6\n",
      "- 1 None | Chapter 1: Ready, Set Up, Go\n",
      "- 1 None | Chapter 2: Life with Your MacBook Air\n",
      "- 1 None | Chapter 3: Problem, Meet Solution\n",
      "- 1 None | Chapter 4: Last, but Not Least\n",
      "- 1 None | Looking for Something?\n",
      "- 1 70 | Index\n"
     ]
    }
   ],
   "source": [
    "if toc_pages:\n",
    "    toc_tree = build_toc_tree_with_llm(flat, toc_pages, llm_call)\n",
    "    print('pages:', toc_tree.get('pages'))\n",
    "    print('headings:', len(toc_tree.get('headings', [])))\n",
    "    for h in toc_tree.get('headings', [])[:10]:\n",
    "        print('-', h.get('level'), h.get('page'), '|', (h.get('title') or '')[:80])\n",
    "else:\n",
    "    print('No TOC pages by LLM. Adjust start_page or test a single page in step 2.')\n"
   ]
  },
  {
   "cell_type": "code",
   "execution_count": 6,
   "id": "acec1f8b",
   "metadata": {},
   "outputs": [
    {
     "data": {
      "text/plain": [
       "{'type': 'toc',\n",
       " 'doc_id': 'Macbook_air',\n",
       " 'pages': [4, 5],\n",
       " 'headings': [{'title': 'Chapter 1: Ready, Set Up, Go',\n",
       "   'level': 1,\n",
       "   'children': [{'title': 'Welcome', 'level': 2, 'page': 8, 'children': []},\n",
       "    {'title': \"What's in the Box\", 'level': 2, 'page': 9, 'children': []},\n",
       "    {'title': 'Setting Up Your MacBook Air',\n",
       "     'level': 2,\n",
       "     'page': 10,\n",
       "     'children': []},\n",
       "    {'title': 'Setting Up DVD or CD Sharing',\n",
       "     'level': 2,\n",
       "     'page': 15,\n",
       "     'children': []},\n",
       "    {'title': 'Migrating Information to Your MacBook Air',\n",
       "     'level': 2,\n",
       "     'page': 16,\n",
       "     'children': []},\n",
       "    {'title': 'Getting Additional Information onto Your MacBook Air',\n",
       "     'level': 2,\n",
       "     'page': 19,\n",
       "     'children': []},\n",
       "    {'title': 'Putting Your MacBook Air to Sleep or Shutting It Down',\n",
       "     'level': 2,\n",
       "     'page': 22,\n",
       "     'children': []}]},\n",
       "  {'title': 'Chapter 2: Life with Your MacBook Air',\n",
       "   'level': 1,\n",
       "   'children': [{'title': 'Basic Features of Your MacBook Air',\n",
       "     'level': 2,\n",
       "     'page': 26,\n",
       "     'children': []},\n",
       "    {'title': 'Keyboard Features of Your MacBook Air',\n",
       "     'level': 2,\n",
       "     'page': 28,\n",
       "     'children': []},\n",
       "    {'title': 'Ports on Your MacBook Air',\n",
       "     'level': 2,\n",
       "     'page': 30,\n",
       "     'children': []},\n",
       "    {'title': 'Using the Trackpad and Keyboard',\n",
       "     'level': 2,\n",
       "     'page': 32,\n",
       "     'children': []},\n",
       "    {'title': 'Running Your MacBook Air on Battery Power',\n",
       "     'level': 2,\n",
       "     'page': 34,\n",
       "     'children': []},\n",
       "    {'title': 'Getting Answers', 'level': 2, 'page': 35, 'children': []}]},\n",
       "  {'title': 'Chapter 3: Problem, Meet Solution',\n",
       "   'level': 1,\n",
       "   'children': [{'title': 'Problems That Prevent You from Using Your MacBook Air',\n",
       "     'level': 2,\n",
       "     'page': 40,\n",
       "     'children': []},\n",
       "    {'title': 'Using Apple Hardware Test',\n",
       "     'level': 2,\n",
       "     'page': 44,\n",
       "     'children': []},\n",
       "    {'title': 'Reinstalling Software Using Remote Install Mac OS X',\n",
       "     'level': 2,\n",
       "     'page': 45,\n",
       "     'children': []},\n",
       "    {'title': 'Reinstalling Software Using the MacBook Air SuperDrive',\n",
       "     'level': 2,\n",
       "     'page': 49,\n",
       "     'children': []},\n",
       "    {'title': 'Problems with AirPort Extreme Wireless Communication',\n",
       "     'level': 2,\n",
       "     'page': 51,\n",
       "     'children': []},\n",
       "    {'title': 'Problems with Your Internet Connection',\n",
       "     'level': 2,\n",
       "     'page': 51,\n",
       "     'children': []},\n",
       "    {'title': 'Keeping Your Software Up to Date',\n",
       "     'level': 2,\n",
       "     'page': 53,\n",
       "     'children': []},\n",
       "    {'title': 'Learning More, Service, and Support',\n",
       "     'level': 2,\n",
       "     'page': 53,\n",
       "     'children': []},\n",
       "    {'title': 'Locating Your Product Serial Number',\n",
       "     'level': 2,\n",
       "     'page': 56,\n",
       "     'children': []}]},\n",
       "  {'title': 'Chapter 4: Last, but Not Least',\n",
       "   'level': 1,\n",
       "   'children': [{'title': 'Important Safety Information',\n",
       "     'level': 2,\n",
       "     'page': 58,\n",
       "     'children': []},\n",
       "    {'title': 'Important Handling Information',\n",
       "     'level': 2,\n",
       "     'page': 60,\n",
       "     'children': []},\n",
       "    {'title': 'Understanding Ergonomics',\n",
       "     'level': 2,\n",
       "     'page': 62,\n",
       "     'children': []},\n",
       "    {'title': 'Apple and the Environment',\n",
       "     'level': 2,\n",
       "     'page': 64,\n",
       "     'children': []},\n",
       "    {'title': 'Regulatory Compliance Information',\n",
       "     'level': 2,\n",
       "     'page': 65,\n",
       "     'children': []}]},\n",
       "  {'title': 'Looking for Something?', 'level': 1, 'children': []},\n",
       "  {'title': 'Index', 'level': 1, 'page': 70, 'children': []}],\n",
       " 'source_path': './../../../data/users/yiming/dtagent/MinerU_MMLB/Macbook_air'}"
      ]
     },
     "execution_count": 6,
     "metadata": {},
     "output_type": "execute_result"
    }
   ],
   "source": [
    "toc_tree"
   ]
  },
  {
   "cell_type": "code",
   "execution_count": null,
   "id": "9c03614c",
   "metadata": {},
   "outputs": [],
   "source": []
  },
  {
   "cell_type": "code",
   "execution_count": null,
   "id": "9fa5288c",
   "metadata": {},
   "outputs": [],
   "source": []
  }
 ],
 "metadata": {
  "kernelspec": {
   "display_name": "dtagent",
   "language": "python",
   "name": "python3"
  },
  "language_info": {
   "codemirror_mode": {
    "name": "ipython",
    "version": 3
   },
   "file_extension": ".py",
   "mimetype": "text/x-python",
   "name": "python",
   "nbconvert_exporter": "python",
   "pygments_lexer": "ipython3",
   "version": "3.12.11"
  }
 },
 "nbformat": 4,
 "nbformat_minor": 5
}
